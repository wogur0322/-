{
 "cells": [
  {
   "cell_type": "markdown",
   "id": "77288356-876a-43af-83d7-2826e73d0ce1",
   "metadata": {},
   "source": [
    "문제 설명\r\n",
    "주어진 숫자 중 3개의 수를 더했을 때 소수가 되는 경우의 개수를 구하려고 합니다. 숫자들이 들어있는 배열 nums가 매개변수로 주어질 때, nums에 있는 숫자들 중 서로 다른 3개를 골라 더했을 때 소수가 되는 경우의 개수를 return 하도록 solution 함수를 완성해주세요.\r\n",
    "\r\n",
    "제한사항\r\n",
    "nums에 들어있는 숫자의 개수는 3개 이상 50개 이하입니다.\r\n",
    "nums의 각 원소는 1 이상 1,000 이하의 자연수이며, 중복된 숫자가 들어있지 않습니다."
   ]
  },
  {
   "cell_type": "markdown",
   "id": "eaa748a3-79b2-4927-8500-97b4a5c56ea9",
   "metadata": {},
   "source": [
    "def is_prime(n):\r\n",
    "    if n <= 1:\r\n",
    "        return False\r\n",
    "    for i in range(2, int(n**0.5) + 1):\r\n",
    "        if n % i == 0:\r\n",
    "            return False\r\n",
    "    retur\n",
    "import random\n",
    "n True"
   ]
  }
 ],
 "metadata": {
  "kernelspec": {
   "display_name": "Python 3 (ipykernel)",
   "language": "python",
   "name": "python3"
  },
  "language_info": {
   "codemirror_mode": {
    "name": "ipython",
    "version": 3
   },
   "file_extension": ".py",
   "mimetype": "text/x-python",
   "name": "python",
   "nbconvert_exporter": "python",
   "pygments_lexer": "ipython3",
   "version": "3.11.7"
  }
 },
 "nbformat": 4,
 "nbformat_minor": 5
}
